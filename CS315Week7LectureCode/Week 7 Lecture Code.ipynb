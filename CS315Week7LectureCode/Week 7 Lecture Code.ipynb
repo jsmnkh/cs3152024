{
 "cells": [
  {
   "cell_type": "markdown",
   "id": "c975a0c6-bdfb-4756-b87e-ca68a05f5336",
   "metadata": {},
   "source": [
    "# Week 7 Lecture Code: Word Embeddings / Clustering / tSNE visualization\n",
    "\n",
    "**March 2024**\n",
    "\n",
    "This is code that was discussed in the class notes for the two lectures in Week 7.\n",
    "\n",
    "**Table of Content**\n",
    "\n",
    "1. [Installing packages](#sec1)\n",
    "2. [Generating Word Embeddings and heatmaps for cosine similarity](#sec2)\n",
    "3. [K-means clustering with word embeddings](#sec3)\n",
    "4. [Using the Elbow method to find the best k for k-means](#sec4)\n",
    "5. [t-SNE visualization](#sec5)"
   ]
  },
  {
   "cell_type": "markdown",
   "id": "b15700c2-2db5-4123-adbf-87755d31dd4c",
   "metadata": {},
   "source": [
    "<a id=\"sec1\"></a>\n",
    "## 1. Installing Packages\n",
    "\n",
    "This notebook contains several packages that we are using for the first time. Additionally, we might need to use these packages for the project too, thus, it's good if we install them within the virtual environment of the project.  \n",
    "\n",
    "However, if we install the packages within Jupyter, they are installed in our system-wide Python installation. We need to take some extra steps to ensure that the new packages are installed for our project-specific virtual environment. Here is what you need to do:\n",
    "\n",
    "1. Make sure that you have created the virtual environment for Project 2 (about collecting data with PykTok). You can find the instructions under Week 7 Programming Activities.\n",
    "2. Open a terminal window, navigate to the folder where you created your virtual environment, and then type `source .project2/bin/activate`.\n",
    "3. Install the following package: `pip install ipykernel`, to manage virtual environments within Jupyter notebooks.\n",
    "4. Register our virtual environment with Jupyter: `python -m ipykernel install --user --name=.project2 --display-name=\"CS315 Project2`\n",
    "5. At this point close this notebook and then restart it again.\n",
    "6. When you reopen the notebook, find the button \"Python 3 (ipykernel)\" on the top right corner. Click on it, you should see the following dialog, where you should select our virtual environment that we gave the display name CS315 Project2: ![Screenshot: Kernel selection](https://cs.wellesley.edu/~eni/cs315/choose-kernel.png)\n",
    "7. Before moving on, run the cell below, just to make sure that you are really running the virtual environment."
   ]
  },
  {
   "cell_type": "code",
   "execution_count": 1,
   "id": "2b598aa2-6f7b-4bda-a206-92738cb72868",
   "metadata": {},
   "outputs": [
    {
     "name": "stdout",
     "output_type": "stream",
     "text": [
      "/Users/jas/miniconda3/envs/pyktok2/bin/python\n"
     ]
    }
   ],
   "source": [
    "import sys\n",
    "print(sys.executable)"
   ]
  },
  {
   "cell_type": "markdown",
   "id": "8cb68a5c-ab89-4854-b330-07b3566fcf4a",
   "metadata": {},
   "source": [
    "If all the prior steps were successful, you should be able to see something similar to the path below, including `.project2/bin/python`\n",
    "![Screenshot: Path](https://cs.wellesley.edu/~eni/cs315/path-confirmation.png)"
   ]
  },
  {
   "cell_type": "markdown",
   "id": "5f6bfb92-281f-489e-93c4-10412413f213",
   "metadata": {},
   "source": [
    "Now you are ready to continue with the following installations for libraries used in this notebook:"
   ]
  },
  {
   "cell_type": "code",
   "execution_count": 3,
   "id": "dd5f3054-6cc6-4f72-94d6-6b83014b1069",
   "metadata": {},
   "outputs": [
    {
     "name": "stdout",
     "output_type": "stream",
     "text": [
      "Requirement already satisfied: tensorflow in /Users/jas/miniconda3/envs/pyktok2/lib/python3.12/site-packages (2.16.1)\n",
      "Requirement already satisfied: tensorflow_hub in /Users/jas/miniconda3/envs/pyktok2/lib/python3.12/site-packages (0.16.1)\n",
      "Requirement already satisfied: scikit-learn in /Users/jas/miniconda3/envs/pyktok2/lib/python3.12/site-packages (1.4.1.post1)\n",
      "Requirement already satisfied: seaborn in /Users/jas/miniconda3/envs/pyktok2/lib/python3.12/site-packages (0.13.2)\n",
      "Requirement already satisfied: plotly in /Users/jas/miniconda3/envs/pyktok2/lib/python3.12/site-packages (5.20.0)\n",
      "Requirement already satisfied: nbformat in /Users/jas/miniconda3/envs/pyktok2/lib/python3.12/site-packages (5.10.3)\n",
      "Requirement already satisfied: absl-py>=1.0.0 in /Users/jas/miniconda3/envs/pyktok2/lib/python3.12/site-packages (from tensorflow) (2.1.0)\n",
      "Requirement already satisfied: astunparse>=1.6.0 in /Users/jas/miniconda3/envs/pyktok2/lib/python3.12/site-packages (from tensorflow) (1.6.3)\n",
      "Requirement already satisfied: flatbuffers>=23.5.26 in /Users/jas/miniconda3/envs/pyktok2/lib/python3.12/site-packages (from tensorflow) (24.3.25)\n",
      "Requirement already satisfied: gast!=0.5.0,!=0.5.1,!=0.5.2,>=0.2.1 in /Users/jas/miniconda3/envs/pyktok2/lib/python3.12/site-packages (from tensorflow) (0.5.4)\n",
      "Requirement already satisfied: google-pasta>=0.1.1 in /Users/jas/miniconda3/envs/pyktok2/lib/python3.12/site-packages (from tensorflow) (0.2.0)\n",
      "Requirement already satisfied: h5py>=3.10.0 in /Users/jas/miniconda3/envs/pyktok2/lib/python3.12/site-packages (from tensorflow) (3.10.0)\n",
      "Requirement already satisfied: libclang>=13.0.0 in /Users/jas/miniconda3/envs/pyktok2/lib/python3.12/site-packages (from tensorflow) (18.1.1)\n",
      "Requirement already satisfied: ml-dtypes~=0.3.1 in /Users/jas/miniconda3/envs/pyktok2/lib/python3.12/site-packages (from tensorflow) (0.3.2)\n",
      "Requirement already satisfied: opt-einsum>=2.3.2 in /Users/jas/miniconda3/envs/pyktok2/lib/python3.12/site-packages (from tensorflow) (3.3.0)\n",
      "Requirement already satisfied: packaging in /Users/jas/miniconda3/envs/pyktok2/lib/python3.12/site-packages (from tensorflow) (24.0)\n",
      "Requirement already satisfied: protobuf!=4.21.0,!=4.21.1,!=4.21.2,!=4.21.3,!=4.21.4,!=4.21.5,<5.0.0dev,>=3.20.3 in /Users/jas/miniconda3/envs/pyktok2/lib/python3.12/site-packages (from tensorflow) (4.25.3)\n",
      "Requirement already satisfied: requests<3,>=2.21.0 in /Users/jas/miniconda3/envs/pyktok2/lib/python3.12/site-packages (from tensorflow) (2.31.0)\n",
      "Requirement already satisfied: setuptools in /Users/jas/miniconda3/envs/pyktok2/lib/python3.12/site-packages (from tensorflow) (68.2.2)\n",
      "Requirement already satisfied: six>=1.12.0 in /Users/jas/miniconda3/envs/pyktok2/lib/python3.12/site-packages (from tensorflow) (1.16.0)\n",
      "Requirement already satisfied: termcolor>=1.1.0 in /Users/jas/miniconda3/envs/pyktok2/lib/python3.12/site-packages (from tensorflow) (2.4.0)\n",
      "Requirement already satisfied: typing-extensions>=3.6.6 in /Users/jas/miniconda3/envs/pyktok2/lib/python3.12/site-packages (from tensorflow) (4.10.0)\n",
      "Requirement already satisfied: wrapt>=1.11.0 in /Users/jas/miniconda3/envs/pyktok2/lib/python3.12/site-packages (from tensorflow) (1.16.0)\n",
      "Requirement already satisfied: grpcio<2.0,>=1.24.3 in /Users/jas/miniconda3/envs/pyktok2/lib/python3.12/site-packages (from tensorflow) (1.62.1)\n",
      "Requirement already satisfied: tensorboard<2.17,>=2.16 in /Users/jas/miniconda3/envs/pyktok2/lib/python3.12/site-packages (from tensorflow) (2.16.2)\n",
      "Requirement already satisfied: keras>=3.0.0 in /Users/jas/miniconda3/envs/pyktok2/lib/python3.12/site-packages (from tensorflow) (3.1.1)\n",
      "Requirement already satisfied: numpy<2.0.0,>=1.26.0 in /Users/jas/miniconda3/envs/pyktok2/lib/python3.12/site-packages (from tensorflow) (1.26.4)\n",
      "Requirement already satisfied: tf-keras>=2.14.1 in /Users/jas/miniconda3/envs/pyktok2/lib/python3.12/site-packages (from tensorflow_hub) (2.16.0)\n",
      "Requirement already satisfied: scipy>=1.6.0 in /Users/jas/miniconda3/envs/pyktok2/lib/python3.12/site-packages (from scikit-learn) (1.12.0)\n",
      "Requirement already satisfied: joblib>=1.2.0 in /Users/jas/miniconda3/envs/pyktok2/lib/python3.12/site-packages (from scikit-learn) (1.3.2)\n",
      "Requirement already satisfied: threadpoolctl>=2.0.0 in /Users/jas/miniconda3/envs/pyktok2/lib/python3.12/site-packages (from scikit-learn) (3.4.0)\n",
      "Requirement already satisfied: pandas>=1.2 in /Users/jas/miniconda3/envs/pyktok2/lib/python3.12/site-packages (from seaborn) (2.2.1)\n",
      "Requirement already satisfied: matplotlib!=3.6.1,>=3.4 in /Users/jas/miniconda3/envs/pyktok2/lib/python3.12/site-packages (from seaborn) (3.8.3)\n",
      "Requirement already satisfied: tenacity>=6.2.0 in /Users/jas/miniconda3/envs/pyktok2/lib/python3.12/site-packages (from plotly) (8.2.3)\n",
      "Requirement already satisfied: fastjsonschema in /Users/jas/miniconda3/envs/pyktok2/lib/python3.12/site-packages (from nbformat) (2.19.1)\n",
      "Requirement already satisfied: jsonschema>=2.6 in /Users/jas/miniconda3/envs/pyktok2/lib/python3.12/site-packages (from nbformat) (4.21.1)\n",
      "Requirement already satisfied: jupyter-core in /Users/jas/miniconda3/envs/pyktok2/lib/python3.12/site-packages (from nbformat) (5.5.0)\n",
      "Requirement already satisfied: traitlets>=5.1 in /Users/jas/miniconda3/envs/pyktok2/lib/python3.12/site-packages (from nbformat) (5.14.2)\n",
      "Requirement already satisfied: wheel<1.0,>=0.23.0 in /Users/jas/miniconda3/envs/pyktok2/lib/python3.12/site-packages (from astunparse>=1.6.0->tensorflow) (0.41.2)\n",
      "Requirement already satisfied: attrs>=22.2.0 in /Users/jas/miniconda3/envs/pyktok2/lib/python3.12/site-packages (from jsonschema>=2.6->nbformat) (23.2.0)\n",
      "Requirement already satisfied: jsonschema-specifications>=2023.03.6 in /Users/jas/miniconda3/envs/pyktok2/lib/python3.12/site-packages (from jsonschema>=2.6->nbformat) (2023.12.1)\n",
      "Requirement already satisfied: referencing>=0.28.4 in /Users/jas/miniconda3/envs/pyktok2/lib/python3.12/site-packages (from jsonschema>=2.6->nbformat) (0.34.0)\n",
      "Requirement already satisfied: rpds-py>=0.7.1 in /Users/jas/miniconda3/envs/pyktok2/lib/python3.12/site-packages (from jsonschema>=2.6->nbformat) (0.18.0)\n",
      "Requirement already satisfied: rich in /Users/jas/miniconda3/envs/pyktok2/lib/python3.12/site-packages (from keras>=3.0.0->tensorflow) (13.7.1)\n",
      "Requirement already satisfied: namex in /Users/jas/miniconda3/envs/pyktok2/lib/python3.12/site-packages (from keras>=3.0.0->tensorflow) (0.0.7)\n",
      "Requirement already satisfied: optree in /Users/jas/miniconda3/envs/pyktok2/lib/python3.12/site-packages (from keras>=3.0.0->tensorflow) (0.11.0)\n",
      "Requirement already satisfied: contourpy>=1.0.1 in /Users/jas/miniconda3/envs/pyktok2/lib/python3.12/site-packages (from matplotlib!=3.6.1,>=3.4->seaborn) (1.2.0)\n",
      "Requirement already satisfied: cycler>=0.10 in /Users/jas/miniconda3/envs/pyktok2/lib/python3.12/site-packages (from matplotlib!=3.6.1,>=3.4->seaborn) (0.12.1)\n",
      "Requirement already satisfied: fonttools>=4.22.0 in /Users/jas/miniconda3/envs/pyktok2/lib/python3.12/site-packages (from matplotlib!=3.6.1,>=3.4->seaborn) (4.50.0)\n",
      "Requirement already satisfied: kiwisolver>=1.3.1 in /Users/jas/miniconda3/envs/pyktok2/lib/python3.12/site-packages (from matplotlib!=3.6.1,>=3.4->seaborn) (1.4.5)\n",
      "Requirement already satisfied: pillow>=8 in /Users/jas/miniconda3/envs/pyktok2/lib/python3.12/site-packages (from matplotlib!=3.6.1,>=3.4->seaborn) (10.2.0)\n",
      "Requirement already satisfied: pyparsing>=2.3.1 in /Users/jas/miniconda3/envs/pyktok2/lib/python3.12/site-packages (from matplotlib!=3.6.1,>=3.4->seaborn) (3.1.2)\n",
      "Requirement already satisfied: python-dateutil>=2.7 in /Users/jas/miniconda3/envs/pyktok2/lib/python3.12/site-packages (from matplotlib!=3.6.1,>=3.4->seaborn) (2.9.0)\n",
      "Requirement already satisfied: pytz>=2020.1 in /Users/jas/miniconda3/envs/pyktok2/lib/python3.12/site-packages (from pandas>=1.2->seaborn) (2024.1)\n",
      "Requirement already satisfied: tzdata>=2022.7 in /Users/jas/miniconda3/envs/pyktok2/lib/python3.12/site-packages (from pandas>=1.2->seaborn) (2024.1)\n",
      "Requirement already satisfied: charset-normalizer<4,>=2 in /Users/jas/miniconda3/envs/pyktok2/lib/python3.12/site-packages (from requests<3,>=2.21.0->tensorflow) (3.3.2)\n",
      "Requirement already satisfied: idna<4,>=2.5 in /Users/jas/miniconda3/envs/pyktok2/lib/python3.12/site-packages (from requests<3,>=2.21.0->tensorflow) (3.6)\n",
      "Requirement already satisfied: urllib3<3,>=1.21.1 in /Users/jas/miniconda3/envs/pyktok2/lib/python3.12/site-packages (from requests<3,>=2.21.0->tensorflow) (2.2.1)\n",
      "Requirement already satisfied: certifi>=2017.4.17 in /Users/jas/miniconda3/envs/pyktok2/lib/python3.12/site-packages (from requests<3,>=2.21.0->tensorflow) (2024.2.2)\n",
      "Requirement already satisfied: markdown>=2.6.8 in /Users/jas/miniconda3/envs/pyktok2/lib/python3.12/site-packages (from tensorboard<2.17,>=2.16->tensorflow) (3.6)\n",
      "Requirement already satisfied: tensorboard-data-server<0.8.0,>=0.7.0 in /Users/jas/miniconda3/envs/pyktok2/lib/python3.12/site-packages (from tensorboard<2.17,>=2.16->tensorflow) (0.7.2)\n",
      "Requirement already satisfied: werkzeug>=1.0.1 in /Users/jas/miniconda3/envs/pyktok2/lib/python3.12/site-packages (from tensorboard<2.17,>=2.16->tensorflow) (3.0.1)\n",
      "Requirement already satisfied: platformdirs>=2.5 in /Users/jas/miniconda3/envs/pyktok2/lib/python3.12/site-packages (from jupyter-core->nbformat) (4.2.0)\n",
      "Requirement already satisfied: MarkupSafe>=2.1.1 in /Users/jas/miniconda3/envs/pyktok2/lib/python3.12/site-packages (from werkzeug>=1.0.1->tensorboard<2.17,>=2.16->tensorflow) (2.1.5)\n",
      "Requirement already satisfied: markdown-it-py>=2.2.0 in /Users/jas/miniconda3/envs/pyktok2/lib/python3.12/site-packages (from rich->keras>=3.0.0->tensorflow) (3.0.0)\n",
      "Requirement already satisfied: pygments<3.0.0,>=2.13.0 in /Users/jas/miniconda3/envs/pyktok2/lib/python3.12/site-packages (from rich->keras>=3.0.0->tensorflow) (2.17.2)\n",
      "Requirement already satisfied: mdurl~=0.1 in /Users/jas/miniconda3/envs/pyktok2/lib/python3.12/site-packages (from markdown-it-py>=2.2.0->rich->keras>=3.0.0->tensorflow) (0.1.2)\n",
      "Note: you may need to restart the kernel to use updated packages.\n"
     ]
    }
   ],
   "source": [
    "pip install tensorflow tensorflow_hub scikit-learn seaborn plotly nbformat"
   ]
  },
  {
   "cell_type": "markdown",
   "id": "57827f06-5769-4441-8d93-73118488f8a8",
   "metadata": {},
   "source": [
    "If the installation was successful, you are ready to continue. If you run into issues, let me know."
   ]
  },
  {
   "cell_type": "markdown",
   "id": "2dd28d25-de89-4f58-9c6b-dd47061d95e9",
   "metadata": {},
   "source": [
    "<a id=\"sec2\"></a>\n",
    "## 2. Generating word embeddings\n",
    "\n",
    "We will use the `tensorflow` library that loads the Universal Sentence Encoder from Google. Running the cells below takes several seconds, this is why it's good to have a notebook that you keep open and running to avoid having to repeat these steps everytime."
   ]
  },
  {
   "cell_type": "code",
   "execution_count": 4,
   "id": "13c1b7aa-73e2-4b3c-b9a8-b04f75c89489",
   "metadata": {},
   "outputs": [
    {
     "name": "stderr",
     "output_type": "stream",
     "text": [
      "2024-03-29 10:57:33.175332: I tensorflow/core/platform/cpu_feature_guard.cc:210] This TensorFlow binary is optimized to use available CPU instructions in performance-critical operations.\n",
      "To enable the following instructions: AVX2 FMA, in other operations, rebuild TensorFlow with the appropriate compiler flags.\n"
     ]
    }
   ],
   "source": [
    "import tensorflow as tf\n",
    "import tensorflow_hub as hub\n",
    "import numpy as np"
   ]
  },
  {
   "cell_type": "code",
   "execution_count": 6,
   "id": "abd02bf8-f384-40e8-83dc-a0ed68975ba8",
   "metadata": {},
   "outputs": [],
   "source": [
    "# Load the Universal Sentence Encoder's TF Hub module\n",
    "embed = hub.load(\"https://tfhub.dev/google/universal-sentence-encoder/4\")"
   ]
  },
  {
   "cell_type": "markdown",
   "id": "0317bba7-bb46-4214-b3f2-e2574131ea88",
   "metadata": {},
   "source": [
    "Let's see what `embed` is:"
   ]
  },
  {
   "cell_type": "code",
   "execution_count": 7,
   "id": "77205152-c887-43b7-a717-10dd72f27d76",
   "metadata": {},
   "outputs": [
    {
     "data": {
      "text/plain": [
       "tensorflow.python.saved_model.load.Loader._recreate_base_user_object.<locals>._UserObject"
      ]
     },
     "execution_count": 7,
     "metadata": {},
     "output_type": "execute_result"
    }
   ],
   "source": [
    "type(embed)"
   ]
  },
  {
   "cell_type": "markdown",
   "id": "2655b878-13fc-47be-ad5f-d585b7649d81",
   "metadata": {},
   "source": [
    "It seems like instance of a class that is loading a saved model for the user.\n",
    "\n",
    "We know that `embed` expects a list of words, thus, even if we want the embedding of one single word, we put it in a list:"
   ]
  },
  {
   "cell_type": "code",
   "execution_count": 8,
   "id": "33063607-2fe3-4193-84f1-0011ab8ce2fd",
   "metadata": {},
   "outputs": [
    {
     "data": {
      "text/plain": [
       "<tf.Tensor: shape=(1, 512), dtype=float32, numpy=\n",
       "array([[-0.04391913,  0.0320113 ,  0.01190968,  0.03629498, -0.00428854,\n",
       "        -0.04623364,  0.01953795, -0.0766146 , -0.04304637,  0.03870977,\n",
       "        -0.04847969, -0.05598783, -0.07318962, -0.01257848, -0.08900222,\n",
       "         0.03608384, -0.03099001, -0.03288192,  0.02245502, -0.0736437 ,\n",
       "        -0.0434471 ,  0.01525586, -0.01991093, -0.00087343, -0.02389864,\n",
       "         0.08860015,  0.00602733, -0.04430725,  0.04500024, -0.0135637 ,\n",
       "        -0.04075949, -0.0187194 , -0.01410533,  0.01902026, -0.07315566,\n",
       "         0.03898572, -0.05082062,  0.01163179,  0.01045336, -0.01495851,\n",
       "         0.05237336, -0.02879025, -0.0653019 , -0.02734277,  0.00342714,\n",
       "         0.0791077 , -0.0050046 ,  0.00479219, -0.00226162, -0.03844388,\n",
       "        -0.02335557, -0.00376969,  0.08060665,  0.07994739, -0.07976856,\n",
       "        -0.08015751,  0.05998326,  0.02709489,  0.07591496,  0.01611827,\n",
       "        -0.03375887, -0.02939119,  0.05382704,  0.0583757 ,  0.02365993,\n",
       "         0.05100419, -0.06117086, -0.04694656,  0.04115756,  0.03589628,\n",
       "        -0.0844108 , -0.03011136, -0.05846398, -0.0187578 ,  0.01077733,\n",
       "        -0.06392524,  0.00401697,  0.08559538, -0.00903516, -0.04465736,\n",
       "         0.01715603,  0.05140961, -0.07735585, -0.07783   , -0.03206476,\n",
       "         0.07085275, -0.06675338,  0.00175753,  0.062679  , -0.03477752,\n",
       "         0.02827858, -0.00113125,  0.01398739,  0.07584987,  0.01799164,\n",
       "        -0.03253378,  0.01601137, -0.04895301, -0.01937765,  0.03310716,\n",
       "         0.06199146, -0.04858332, -0.0319836 , -0.08049706,  0.05627648,\n",
       "        -0.06411111, -0.01100222, -0.00556094, -0.03695473,  0.06358637,\n",
       "         0.04745823,  0.00398516, -0.01763891,  0.02664303, -0.00692302,\n",
       "         0.01172061,  0.00306165, -0.00730917,  0.06018969,  0.00048547,\n",
       "        -0.07158718, -0.08368503, -0.00604799,  0.03462589, -0.04297213,\n",
       "         0.07582822,  0.01956606, -0.05738992, -0.02027083, -0.00017041,\n",
       "        -0.06116413,  0.07722658,  0.07893451,  0.04476102,  0.02609367,\n",
       "         0.04317093,  0.04311129, -0.03858434, -0.00360968, -0.01832553,\n",
       "        -0.05903054, -0.05191155,  0.05265234, -0.06787778, -0.04987862,\n",
       "        -0.04582148,  0.01026252, -0.02073082, -0.005717  , -0.08787715,\n",
       "        -0.04451664,  0.03900943, -0.0619576 ,  0.06508894, -0.04800298,\n",
       "        -0.03689303, -0.06984159, -0.07656716,  0.02946993, -0.04919348,\n",
       "         0.01169809,  0.00932667, -0.06383104,  0.02116262, -0.05287201,\n",
       "         0.00773776, -0.05449141,  0.06637748, -0.00289267,  0.01604711,\n",
       "         0.01302747, -0.00246807, -0.00539524,  0.05304951, -0.07298885,\n",
       "         0.06125431,  0.04192389, -0.03472356,  0.03756179, -0.01218874,\n",
       "         0.01029081,  0.02111713,  0.03444867,  0.07595845,  0.03786048,\n",
       "        -0.08619914, -0.05968378, -0.02477259,  0.03965548,  0.00020002,\n",
       "        -0.03867126,  0.00585815,  0.06694734,  0.01585643, -0.02914743,\n",
       "        -0.07633949,  0.0386712 , -0.03050988, -0.01204501, -0.04410134,\n",
       "        -0.01490493,  0.02709728,  0.08546875, -0.01945642, -0.05372969,\n",
       "        -0.00454367, -0.00051227,  0.00233284, -0.01387241,  0.02950731,\n",
       "        -0.07646758,  0.02868283,  0.00419672, -0.03460614, -0.00222012,\n",
       "         0.02403799, -0.04661334, -0.03913404,  0.02800954,  0.03342444,\n",
       "         0.02657785,  0.01888492, -0.01560862,  0.01108898,  0.00650694,\n",
       "        -0.07425503,  0.01594729,  0.03189635,  0.04558127,  0.02200571,\n",
       "        -0.02031623, -0.05391645,  0.01752973,  0.08819564,  0.01047276,\n",
       "         0.05633179,  0.06233584, -0.0321107 , -0.07344995,  0.00193288,\n",
       "         0.03172632,  0.08727103,  0.01944815,  0.04612583,  0.02816417,\n",
       "         0.01102467,  0.04082268,  0.04240961, -0.02757785,  0.00428099,\n",
       "        -0.07045941, -0.02650404, -0.08893929,  0.06352625, -0.00352298,\n",
       "         0.04850169,  0.00092638, -0.02464016, -0.08303951, -0.05171134,\n",
       "        -0.03916217, -0.02332116,  0.05532194,  0.02512827,  0.0574919 ,\n",
       "        -0.03335011, -0.00883709,  0.05669092,  0.02540465,  0.06490766,\n",
       "         0.01755294, -0.0340043 , -0.00070716, -0.03066144, -0.00152352,\n",
       "        -0.02119866, -0.0640847 ,  0.0231767 ,  0.06505801,  0.07198009,\n",
       "         0.0392109 ,  0.04193089,  0.0023055 , -0.03617764,  0.05731984,\n",
       "        -0.02051385,  0.03153251, -0.01864696,  0.0081731 ,  0.00579672,\n",
       "         0.05050895, -0.02208875,  0.08859621,  0.03404759,  0.02507683,\n",
       "         0.03943738,  0.02706955,  0.0079135 , -0.00171416,  0.06399411,\n",
       "         0.01499372, -0.08776126, -0.04199324, -0.0337008 , -0.06074306,\n",
       "         0.03213424,  0.02717573,  0.00213995, -0.06334654, -0.0202319 ,\n",
       "         0.01629031, -0.00092256,  0.00824899,  0.01577867, -0.04278883,\n",
       "        -0.04869694,  0.04034989, -0.02546564, -0.01175197, -0.00048598,\n",
       "        -0.02806013, -0.01173199, -0.04622827,  0.08773573, -0.017432  ,\n",
       "        -0.04271528, -0.0381197 ,  0.03642939,  0.00211869,  0.04830999,\n",
       "         0.02836964,  0.0436401 , -0.04257249, -0.00154347,  0.04288133,\n",
       "        -0.08155319, -0.03537532,  0.05726536,  0.01956838,  0.01228187,\n",
       "        -0.03880941,  0.02262404,  0.04629245, -0.0121339 , -0.00692891,\n",
       "        -0.05959067,  0.02001723, -0.05657122,  0.03050376,  0.00799744,\n",
       "         0.05053762,  0.00853808, -0.01061045, -0.07865336, -0.05624805,\n",
       "        -0.05606464, -0.0838901 ,  0.03334736,  0.00548174, -0.00065625,\n",
       "         0.03902393, -0.04998429,  0.08082013, -0.01402541, -0.0080152 ,\n",
       "         0.01369513,  0.07176806,  0.003226  ,  0.07009995,  0.03162311,\n",
       "        -0.08137206, -0.06851249,  0.0591193 , -0.02741772, -0.07372665,\n",
       "        -0.030532  , -0.01363895,  0.0428145 , -0.01815223,  0.00625357,\n",
       "         0.03977714, -0.05909358, -0.03699099,  0.06277781, -0.04091013,\n",
       "         0.04296124, -0.03289929, -0.07273812, -0.01455481,  0.00859372,\n",
       "        -0.02045455, -0.08864873,  0.00880368,  0.01237249, -0.06606161,\n",
       "        -0.07324868, -0.03444452,  0.00780707, -0.05084096,  0.00583718,\n",
       "         0.03629398,  0.08892626, -0.04942537,  0.02623339, -0.02582993,\n",
       "        -0.05967071,  0.03868426,  0.00806729, -0.04186408, -0.0415225 ,\n",
       "        -0.03159929, -0.0020966 ,  0.01536577,  0.0404311 , -0.08534021,\n",
       "         0.01086838,  0.05972987,  0.03528918,  0.00511724,  0.03179449,\n",
       "        -0.00602141,  0.02096484, -0.03941331, -0.01415873,  0.05658232,\n",
       "         0.04269019, -0.01623842,  0.06421448,  0.04676112,  0.05437628,\n",
       "        -0.01503799, -0.02473366,  0.01765632, -0.02634687,  0.08255324,\n",
       "        -0.02794103, -0.02262073,  0.00205419, -0.02838218,  0.030862  ,\n",
       "        -0.01681354, -0.00254836,  0.05847722,  0.00701805, -0.00430047,\n",
       "         0.00849525,  0.02374603, -0.06189706,  0.06073495,  0.03382769,\n",
       "         0.06218817, -0.0837408 , -0.02829603, -0.0555787 , -0.01160217,\n",
       "         0.03266242,  0.04783059, -0.05582914, -0.02840457,  0.05267306,\n",
       "         0.01060975,  0.04075461, -0.02016914,  0.06635583,  0.0074254 ,\n",
       "        -0.0491559 , -0.07929008,  0.0500255 ,  0.02042785,  0.06928929,\n",
       "         0.02649399, -0.00151973,  0.06819009,  0.02943927,  0.03870546,\n",
       "         0.01986221, -0.06175927,  0.08548003,  0.03404276,  0.03481223,\n",
       "        -0.06544839, -0.06740935,  0.02023062,  0.02049203,  0.00170004,\n",
       "         0.03384819, -0.0446783 , -0.08114871, -0.04905274,  0.0772535 ,\n",
       "        -0.02669827, -0.01099812,  0.03947103,  0.00598232,  0.03606433,\n",
       "        -0.02333741,  0.06101305, -0.06487118, -0.01098044,  0.03963407,\n",
       "         0.02665095,  0.02733456,  0.01442913, -0.08744738,  0.03815875,\n",
       "        -0.01752754, -0.04362552,  0.01380072, -0.07805207, -0.00882785,\n",
       "        -0.0392776 , -0.05178538]], dtype=float32)>"
      ]
     },
     "execution_count": 8,
     "metadata": {},
     "output_type": "execute_result"
    }
   ],
   "source": [
    "# get the word embedding of a single word\n",
    "embed([\"apple\"])"
   ]
  },
  {
   "cell_type": "markdown",
   "id": "1761e9eb-7a8b-448e-ad6e-c4c3bbcb88e4",
   "metadata": {},
   "source": [
    "From the result, we can see that we got a tensor of shape 1x512, meaning a single row with 512 columns (the dimensions for the word representation). A tensor is a mathematical term for a multi-dimensional array."
   ]
  },
  {
   "cell_type": "markdown",
   "id": "700d916a-434f-4387-9aa0-105c731a3876",
   "metadata": {},
   "source": [
    "Let's get the embeddings for a few pairs of words that we know are similar:"
   ]
  },
  {
   "cell_type": "code",
   "execution_count": 9,
   "id": "18e24667-0b6c-4df3-b84a-5303947c7d23",
   "metadata": {},
   "outputs": [
    {
     "data": {
      "text/plain": [
       "TensorShape([10, 512])"
      ]
     },
     "execution_count": 9,
     "metadata": {},
     "output_type": "execute_result"
    }
   ],
   "source": [
    "words = ['king', 'queen', 'radio', 'TV', 'bike', 'car', 'Boston', 'London', 'lake', 'river']\n",
    "\n",
    "embeddings = embed(words)\n",
    "embeddings.shape"
   ]
  },
  {
   "cell_type": "markdown",
   "id": "049cf657-ebcb-4eb4-b9c6-23bcd27f0b5b",
   "metadata": {},
   "source": [
    "As we can see, we got one embedding for each word as a vector of 512 dimensions. We will calculate the cosine similarity between these words:"
   ]
  },
  {
   "cell_type": "code",
   "execution_count": 10,
   "id": "86dc9362-9d1b-4e8e-9b5b-38b072166286",
   "metadata": {},
   "outputs": [],
   "source": [
    "from numpy.linalg import norm\n",
    "\n",
    "def cosineSimilarity(vec1, vec2):\n",
    "    \"\"\"Calculate the cosine similarity between two vectors.\"\"\"\n",
    "    V1 = np.array(vec1)\n",
    "    V2 = np.array(vec2)\n",
    "    cosine = np.dot(V1, V2)/(norm(V1)*norm(V2))\n",
    "    return cosine"
   ]
  },
  {
   "cell_type": "markdown",
   "id": "5d4cd67d-1457-4394-a8ec-8e40fe2bd00a",
   "metadata": {},
   "source": [
    "Now that we have this function, we will call it to calculate the similarity between all pairs of words, as part of a new function:"
   ]
  },
  {
   "cell_type": "code",
   "execution_count": 11,
   "id": "f8337354-1f4d-4234-bf1c-574d4d3a6ca1",
   "metadata": {},
   "outputs": [
    {
     "name": "stdout",
     "output_type": "stream",
     "text": [
      "[[1.0, 0.58856946, 0.2017837, 0.23791906, 0.2845464, 0.30579725, 0.31222966, 0.3519483, 0.21853511, 0.31288993], [0.58856946, 1.0000001, 0.23228016, 0.21706414, 0.23037918, 0.23948048, 0.23180102, 0.27207547, 0.15932225, 0.22088568], [0.2017837, 0.23228016, 1.0, 0.45328128, 0.28366217, 0.45171037, 0.26606655, 0.34238768, 0.2682847, 0.312001], [0.23791906, 0.21706414, 0.45328128, 1.0, 0.31165937, 0.43531647, 0.24773496, 0.23908722, 0.22314478, 0.33228463], [0.2845464, 0.23037918, 0.28366217, 0.31165937, 1.0, 0.56984055, 0.29134262, 0.33670276, 0.2905055, 0.3785724], [0.30579725, 0.23948048, 0.45171037, 0.43531647, 0.56984055, 1.0, 0.33123642, 0.34563774, 0.27086568, 0.35168734], [0.31222966, 0.23180102, 0.26606655, 0.24773496, 0.29134262, 0.33123642, 1.0000001, 0.49752563, 0.290603, 0.26489943], [0.3519483, 0.27207547, 0.34238768, 0.23908722, 0.33670276, 0.34563774, 0.49752563, 1.0000001, 0.23277909, 0.32204518], [0.21853511, 0.15932225, 0.2682847, 0.22314478, 0.2905055, 0.27086568, 0.290603, 0.23277909, 1.0000001, 0.471712], [0.31288993, 0.22088568, 0.312001, 0.33228463, 0.3785724, 0.35168734, 0.26489943, 0.32204518, 0.471712, 1.0]]\n"
     ]
    }
   ],
   "source": [
    "def pairwiseSimilarity(embeddings):\n",
    "    \"\"\"Given a matrix of embeddings for words or sentences,\n",
    "    calculate the cosine similarity for each pair.\n",
    "    \"\"\"\n",
    "    simMatrix = []\n",
    "    for vec1 in embeddings:\n",
    "        simRow = []\n",
    "        for vec2 in embeddings:\n",
    "            simRow.append(cosineSimilarity(vec1, vec2))\n",
    "        simMatrix.append(simRow)\n",
    "    return simMatrix\n",
    "    \n",
    "simMatrix = pairwiseSimilarity(embeddings)\n",
    "print(simMatrix)"
   ]
  },
  {
   "cell_type": "markdown",
   "id": "22b529cb-4be6-48de-be1f-aa8deca6e0a8",
   "metadata": {},
   "source": [
    "Let's generate a heatmap to see the similarity between the pairs of words:"
   ]
  },
  {
   "cell_type": "code",
   "execution_count": 12,
   "id": "d413dcbc-5994-4edd-a35a-180536a2cfcd",
   "metadata": {},
   "outputs": [],
   "source": [
    "import seaborn as sns\n",
    "import matplotlib.pyplot as plt\n",
    "\n",
    "def drawHeatmap(labels, simMtrx, plotTitle):\n",
    "    \"\"\"Draws a heatmap for the similarity matrix.\n",
    "    \"\"\"\n",
    "    sns.set(font_scale=0.9)\n",
    "    g = sns.heatmap(\n",
    "          simMtrx, # similarity matrix with the cosine sim values\n",
    "          xticklabels=labels,\n",
    "          yticklabels=labels,\n",
    "          vmin=0,\n",
    "          vmax=1,\n",
    "          cmap=\"YlOrRd\")\n",
    "    g.set_xticklabels(labels, rotation=90)\n",
    "    g.set_title(plotTitle, fontsize=14)\n",
    "    plt.show()"
   ]
  },
  {
   "cell_type": "code",
   "execution_count": 14,
   "id": "1c8bf97a-ef82-468e-8c42-2d984a24b4f7",
   "metadata": {},
   "outputs": [
    {
     "data": {
      "image/png": "[encoded data removed]",
      "text/plain": [
       "<Figure size 640x480 with 2 Axes>"
      ]
     },
     "metadata": {},
     "output_type": "display_data"
    }
   ],
   "source": [
    "drawHeatmap(words, simMatrix, \"Similarity for Word Embeddings\")"
   ]
  },
  {
   "cell_type": "markdown",
   "id": "42f6d950-ba9f-47a8-8225-87e1d49ecbe1",
   "metadata": {},
   "source": [
    "**Optional Challenge: Find most similar words**\n",
    "\n",
    "While the heat map gives us some information, is hard to see the most simlar words. We can write a Python function to find the most similar pairs. I wrote one that I can call like this:\n",
    "\n",
    "`findUniqueTopPairs(simMatrix, words)[:10]`\n",
    "\n",
    "And the results are the following:\n",
    "```\n",
    "[(0.58856946, 'king', 'queen'),\n",
    " (0.56984055, 'bike', 'car'),\n",
    " (0.49752563, 'Boston', 'London'),\n",
    " (0.471712, 'lake', 'river'),\n",
    " (0.45328128, 'TV', 'radio'),\n",
    " (0.45171037, 'car', 'radio'),\n",
    " (0.43531647, 'TV', 'car'),\n",
    " (0.3785724, 'bike', 'river'),\n",
    " (0.3519483, 'London', 'king'),\n",
    " (0.35168734, 'car', 'river')]\n",
    "```\n",
    "\n",
    "Notice how our original 5 pairs are at the top, and pairs like 'car' and 'radio' are still related. One can also understand the relationshp between 'London' and 'king' (based on the history of the many kings who lived in London, although for the past 70 years there was a queen in the palace). Anyway, we can see how the similarity is going down."
   ]
  },
  {
   "cell_type": "code",
   "execution_count": null,
   "id": "086377d4-d2f8-42ee-b272-31e563385714",
   "metadata": {},
   "outputs": [],
   "source": [
    "# your code"
   ]
  },
  {
   "cell_type": "code",
   "execution_count": 16,
   "id": "d98e9813-8631-499a-908a-7dcc42d9eea3",
   "metadata": {},
   "outputs": [
    {
     "name": "stdout",
     "output_type": "stream",
     "text": [
      "[(0.58856946, 'king', 'queen'), (0.56984055, 'queen', 'car'), (0.49752563, 'king', 'car'), (0.3785724, 'queen', 'bike'), (0.3519483, 'king', 'bike'), (0.0, 'queen', 'London'), (0.0, 'king', 'London'), (0.0, 'car', 'London'), (0.0, 'bike', 'car'), (0.0, 'bike', 'London')]\n"
     ]
    }
   ],
   "source": [
    "def findUniqueTopPairs(simMatrix, words):\n",
    "    top_pairs = []\n",
    "    seen = set()\n",
    "    for i in range(len(words)):\n",
    "        for j in range(i+1, len(words)):\n",
    "            similarity = simMatrix[i][j]\n",
    "            if (similarity, words[i], words[j]) not in seen:\n",
    "                top_pairs.append((similarity, words[i], words[j]))\n",
    "                seen.add((similarity, words[i], words[j]))\n",
    "    \n",
    "    top_pairs.sort(reverse=True)\n",
    "    return top_pairs\n",
    "\n",
    "\n",
    "words = ['king', 'queen', 'bike', 'car', 'London']\n",
    "\n",
    "top_pairs = findUniqueTopPairs(similarity_matrix, words)[:10]\n",
    "print(top_pairs)\n"
   ]
  },
  {
   "cell_type": "markdown",
   "id": "2aab7697-d611-4795-88eb-eeadd4f0294f",
   "metadata": {},
   "source": [
    "<a id=\"sec3\"></a>\n",
    "## 3. K-means clustering with word embeddings\n",
    "\n",
    "In lecture we showed the clustering for the TikTok hashtags collected from posts, but for connecting this section to the t-SNE visualization section below, we will show here the clustering for our own list of news hashtags."
   ]
  },
  {
   "cell_type": "code",
   "execution_count": null,
   "id": "7e67740a-4061-4100-a7dd-872b7a23fa8b",
   "metadata": {},
   "outputs": [],
   "source": [
    "# get the news hashtags\n",
    "import json\n",
    "news = json.load(open('news-hashtags.json'))\n",
    "news[:10]"
   ]
  },
  {
   "cell_type": "markdown",
   "id": "508e8d39-318a-4c8d-aaf8-efaaa479c28d",
   "metadata": {},
   "source": [
    "**Step 1: Get the word embeddings**"
   ]
  },
  {
   "cell_type": "code",
   "execution_count": null,
   "id": "3b27a2d6-5999-4fe3-9efe-3eb3bdccf1d4",
   "metadata": {},
   "outputs": [],
   "source": [
    "# remember that we loaded the model in the prior section\n",
    "newsEmbed = embed(news)\n",
    "newsEmbed.shape"
   ]
  },
  {
   "cell_type": "markdown",
   "id": "9da04f34-32e6-4cb6-9861-f5deec14d99b",
   "metadata": {},
   "source": [
    "**Step 2: Perform clustering with a fixed k value**\n",
    "\n",
    "For this time, we will perform clustering with k=15. The code will take a few seconds (or more) to run:"
   ]
  },
  {
   "cell_type": "code",
   "execution_count": null,
   "id": "e00d57f6-be4d-49f1-a224-e15de04cc4b4",
   "metadata": {},
   "outputs": [],
   "source": [
    "from sklearn.cluster import KMeans\n",
    "\n",
    "k = 15 # number of clusters\n",
    "kmeans = KMeans(n_clusters=k, random_state=42)\n",
    "clusters = kmeans.fit_predict(newsEmbed)"
   ]
  },
  {
   "cell_type": "markdown",
   "id": "a737b1ba-2193-489b-9c49-d5b2e99f020a",
   "metadata": {},
   "source": [
    "Let's see what the results look like:"
   ]
  },
  {
   "cell_type": "code",
   "execution_count": null,
   "id": "6f413849-ddef-46f8-8394-a7577a86d376",
   "metadata": {},
   "outputs": [],
   "source": [
    "clusters[:10]"
   ]
  },
  {
   "cell_type": "markdown",
   "id": "73337644-2a34-4901-81bf-dd2e27d6aca1",
   "metadata": {},
   "source": [
    "They are indices of the clusters. For each elemenent in our `news` list, the `clusters` array indicates in which of the 15 clusters the item has been assigned. We can then use this information to find out which words are in which cluster."
   ]
  },
  {
   "cell_type": "markdown",
   "id": "040a0fad-6fd1-4744-bd28-63f6020f2737",
   "metadata": {},
   "source": [
    "We will print out the composition of each cluster:"
   ]
  },
  {
   "cell_type": "code",
   "execution_count": null,
   "id": "4d9d3343-9151-46e5-95d3-c1e081279cc1",
   "metadata": {},
   "outputs": [],
   "source": [
    "for i in range(k):\n",
    "    print(f\"Cluster {i}:\")\n",
    "    cluster_words = [news[j] for j in range(len(news)) if clusters[j] == i]\n",
    "    print(cluster_words)"
   ]
  },
  {
   "cell_type": "markdown",
   "id": "66f283a3-bb5c-4cc9-8fdf-6cce66fc2fc4",
   "metadata": {},
   "source": [
    "As we discussed when we looked at the t-SNE visualization in class, some groups of words are really meaningful, for example, Cluster 5, Cluster 6, Cluster 8."
   ]
  },
  {
   "cell_type": "markdown",
   "id": "ed1d0461-69f6-42e1-bc3d-012392953006",
   "metadata": {},
   "source": [
    "<a id=\"sec4\"></a>\n",
    "## 4. Using the Elbow method to find the best k\n",
    "\n",
    "We discussed that having to pick k is a limitation of K-means clustering. Below, we show one method known as the Elbow method to try to pick the best k. If you want to learn about the method, here is [a short 4-minute video](https://www.youtube.com/watch?v=ht7geyMAFfA) to explain it. It is called the Elbow method because k is selected at the lowest point that marks something that looks like an elbow. This is the point where the sum of squared distances from the cluster centroid stops decreasing rapidly and enters a phase of a constant-paced decline, toward 0. This sum of squared distances of all points from the cluster centroid is known as inertia. "
   ]
  },
  {
   "cell_type": "code",
   "execution_count": null,
   "id": "8f73271b-7338-4940-90eb-8cbd93323dba",
   "metadata": {},
   "outputs": [],
   "source": [
    "def elbowMethod(embeddings, maxK):\n",
    "    \"\"\"\n",
    "    Implements the Elbow method for finding most optimal k.\n",
    "    It keeps track of a measure named \"inertia\" for each cluster.\n",
    "    \"\"\"\n",
    "    sumSquaredDistances = []\n",
    "    kValues = list(range(1, maxK))\n",
    "    for k in kValues:\n",
    "        km = KMeans(n_clusters=k, random_state=42)\n",
    "        km = km.fit(embeddings)\n",
    "        sumSquaredDistances.append(km.inertia_)\n",
    "    \n",
    "    # plot the line to identify the elbow\n",
    "    plt.plot(kValues, sumSquaredDistances, 'ro-')\n",
    "    plt.xlabel('k')\n",
    "    plt.xticks(kValues)\n",
    "    plt.ylabel('Sum of squared distances')\n",
    "    plt.title('Elbow Method For Optimal k')\n",
    "    plt.show()"
   ]
  },
  {
   "cell_type": "markdown",
   "id": "5c75975e-3c67-4bff-8d51-bc6e49c01ac3",
   "metadata": {},
   "source": [
    "Let's try below 20 values for k:"
   ]
  },
  {
   "cell_type": "code",
   "execution_count": null,
   "id": "a63e8fcc-d4db-41e2-bd3f-4da0e0d04b87",
   "metadata": {},
   "outputs": [],
   "source": [
    "elbowMethod(newsEmbed, 20)"
   ]
  },
  {
   "cell_type": "markdown",
   "id": "65a3ffeb-336c-40eb-9004-a9746595830f",
   "metadata": {},
   "source": [
    "In this plot, inertia stops rapidly decreasing at the k=3 and enters a phase of steady decline. So we will pick k=3."
   ]
  },
  {
   "cell_type": "code",
   "execution_count": null,
   "id": "250b738d-e873-4f5e-8bf7-5b22df792c99",
   "metadata": {},
   "outputs": [],
   "source": [
    "k = 3\n",
    "kmeans = KMeans(n_clusters=k, random_state=42)\n",
    "clusters = kmeans.fit_predict(newsEmbed)\n",
    "\n",
    "clusters[:10]"
   ]
  },
  {
   "cell_type": "markdown",
   "id": "fb4416b3-880e-4c60-8c54-5264078866ea",
   "metadata": {},
   "source": [
    "Notices the indices of the clusters: 0, 1, 2. We can check quickly how many items are in each cluster:"
   ]
  },
  {
   "cell_type": "code",
   "execution_count": null,
   "id": "04bc1ac9-c2a0-4bea-9ef9-52856510e1b6",
   "metadata": {},
   "outputs": [],
   "source": [
    "from collections import Counter\n",
    "Counter(clusters)"
   ]
  },
  {
   "cell_type": "markdown",
   "id": "6f84f73d-0805-4706-aedc-21e1099b9b8d",
   "metadata": {},
   "source": [
    "So, it looks like the clusters have roughly the same size: 0 and 2 have about 40 items and cluster 1 has 50 items. Let's visualize the clusters using t-SNE."
   ]
  },
  {
   "cell_type": "markdown",
   "id": "ade6402d-25e9-4959-9db9-3c025fd7dc15",
   "metadata": {},
   "source": [
    "<a id=\"sec5\"></a>\n",
    "## 5. t-SNE visualization\n",
    "\n",
    "To create the t-SNE visualization, we need a few steps to prepare the data first. We work directly with the embeddings and then use the cluster membership as a column that will allow us to color the dots in the scatterplot."
   ]
  },
  {
   "cell_type": "markdown",
   "id": "0b9a5c21-8759-4fc9-8072-b2634209abfa",
   "metadata": {},
   "source": [
    "**Step 1: Run the TSNE algorithm**"
   ]
  },
  {
   "cell_type": "code",
   "execution_count": null,
   "id": "3bab1c9d-abcb-4a25-9eef-7d07f28fbcae",
   "metadata": {},
   "outputs": [],
   "source": [
    "from sklearn.manifold import TSNE\n",
    "\n",
    "tsne = TSNE(n_components=2, random_state=42)  \n",
    "tsne_results = tsne.fit_transform(newsEmbed)"
   ]
  },
  {
   "cell_type": "markdown",
   "id": "ebf7526c-d9b6-4b26-9cd7-bde75d5b4247",
   "metadata": {},
   "source": [
    "**Step 2: Create a dataframe**"
   ]
  },
  {
   "cell_type": "code",
   "execution_count": null,
   "id": "f028c41c-bd4f-474b-9e6b-d2201e3e72e5",
   "metadata": {},
   "outputs": [],
   "source": [
    "import pandas as pd\n",
    "\n",
    "df = pd.DataFrame(tsne_results, columns=['tsne_1', 'tsne_2'])\n",
    "df['hashtag'] = news  \n",
    "df['cluster'] = clusters # the cluster indices where each news hashtags belong\n",
    "df.head()"
   ]
  },
  {
   "cell_type": "markdown",
   "id": "6b39a0cb-f63f-4093-80b7-fe84ca52945e",
   "metadata": {},
   "source": [
    "**Step 3: Generate Plotly visualization**"
   ]
  },
  {
   "cell_type": "code",
   "execution_count": null,
   "id": "fdca5f2b-543a-4227-a8ee-b1969ef63f6b",
   "metadata": {},
   "outputs": [],
   "source": [
    "import plotly.express as px\n",
    "\n",
    "# Create the scatter plot\n",
    "fig = px.scatter(df, x='tsne_1', y='tsne_2', text='hashtag', color=\"cluster\", color_continuous_scale=\"BlueRed\")\n",
    "\n",
    "# Format what to show next to the markers\n",
    "fig.update_traces(textposition='top center', \n",
    "                  mode='markers+text', \n",
    "                  textfont=dict(size=6))\n",
    "\n",
    "fig.update_layout(title='Embeddings of TikTok News Hashtags', width=800, height=800)\n",
    "fig.show()"
   ]
  },
  {
   "cell_type": "code",
   "execution_count": null,
   "id": "4925f8c2-96bc-48bf-91b3-c200ea63250b",
   "metadata": {},
   "outputs": [],
   "source": []
  }
 ],
 "metadata": {
  "kernelspec": {
   "display_name": "pyktok",
   "language": "python",
   "name": "python3"
  },
  "language_info": {
   "codemirror_mode": {
    "name": "ipython",
    "version": 3
   },
   "file_extension": ".py",
   "mimetype": "text/x-python",
   "name": "python",
   "nbconvert_exporter": "python",
   "pygments_lexer": "ipython3",
   "version": "3.12.2"
  }
 },
 "nbformat": 4,
 "nbformat_minor": 5
}
